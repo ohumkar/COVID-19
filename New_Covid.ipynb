{
  "nbformat": 4,
  "nbformat_minor": 0,
  "metadata": {
    "colab": {
      "name": "New Covid.ipynb",
      "provenance": [],
      "collapsed_sections": [],
      "authorship_tag": "ABX9TyNjufsyo3us/NZ+BtPS2jIT",
      "include_colab_link": true
    },
    "kernelspec": {
      "name": "python3",
      "display_name": "Python 3"
    },
    "accelerator": "GPU"
  },
  "cells": [
    {
      "cell_type": "markdown",
      "metadata": {
        "id": "view-in-github",
        "colab_type": "text"
      },
      "source": [
        "<a href=\"https://colab.research.google.com/github/ohumkar/COVID-19/blob/master/New_Covid.ipynb\" target=\"_parent\"><img src=\"https://colab.research.google.com/assets/colab-badge.svg\" alt=\"Open In Colab\"/></a>"
      ]
    },
    {
      "cell_type": "markdown",
      "metadata": {
        "id": "cABCgljzu5zK",
        "colab_type": "text"
      },
      "source": [
        "# Setting up Essentials"
      ]
    },
    {
      "cell_type": "markdown",
      "metadata": {
        "id": "9X1ZfwL0vEU4",
        "colab_type": "text"
      },
      "source": [
        "###### Mounting drive containing image dataset"
      ]
    },
    {
      "cell_type": "code",
      "metadata": {
        "id": "3KoaZ6m92DZ2",
        "colab_type": "code",
        "outputId": "68759465-479f-4c15-dc5f-c2eb731e73f2",
        "colab": {
          "base_uri": "https://localhost:8080/",
          "height": 121
        }
      },
      "source": [
        "from google.colab import drive\n",
        "drive.mount('/content/drive')"
      ],
      "execution_count": 0,
      "outputs": [
        {
          "output_type": "stream",
          "text": [
            "Go to this URL in a browser: https://accounts.google.com/o/oauth2/auth?client_id=947318989803-6bn6qk8qdgf4n4g3pfee6491hc0brc4i.apps.googleusercontent.com&redirect_uri=urn%3aietf%3awg%3aoauth%3a2.0%3aoob&response_type=code&scope=email%20https%3a%2f%2fwww.googleapis.com%2fauth%2fdocs.test%20https%3a%2f%2fwww.googleapis.com%2fauth%2fdrive%20https%3a%2f%2fwww.googleapis.com%2fauth%2fdrive.photos.readonly%20https%3a%2f%2fwww.googleapis.com%2fauth%2fpeopleapi.readonly\n",
            "\n",
            "Enter your authorization code:\n",
            "··········\n",
            "Mounted at /content/drive\n"
          ],
          "name": "stdout"
        }
      ]
    },
    {
      "cell_type": "markdown",
      "metadata": {
        "id": "GR7CWWqsvLcK",
        "colab_type": "text"
      },
      "source": [
        "###### Setting device to 'CUDA' for faster training"
      ]
    },
    {
      "cell_type": "code",
      "metadata": {
        "id": "Ekq_H3JZ1tDd",
        "colab_type": "code",
        "outputId": "29c48987-da66-41ba-c75b-330bcf2c8732",
        "colab": {
          "base_uri": "https://localhost:8080/",
          "height": 34
        }
      },
      "source": [
        "import torch\n",
        "\n",
        "device = 'cuda' if torch.cuda.is_available() else 'cpu'\n",
        "print(device)"
      ],
      "execution_count": 0,
      "outputs": [
        {
          "output_type": "stream",
          "text": [
            "cuda\n"
          ],
          "name": "stdout"
        }
      ]
    },
    {
      "cell_type": "markdown",
      "metadata": {
        "id": "1G-wNy_bwzyY",
        "colab_type": "text"
      },
      "source": [
        ""
      ]
    },
    {
      "cell_type": "markdown",
      "metadata": {
        "id": "l8WN_Fspw0Sy",
        "colab_type": "text"
      },
      "source": [
        "# Creating Custom DataSet "
      ]
    },
    {
      "cell_type": "markdown",
      "metadata": {
        "id": "-xYozBHbvmD4",
        "colab_type": "text"
      },
      "source": [
        "###### Because of a mix of single and 3 channel images...all images are converted to RGB format\n",
        "###### This dataset returns the RGB image along with a one hot label vector "
      ]
    },
    {
      "cell_type": "code",
      "metadata": {
        "id": "tWE6Gu9q1Fpf",
        "colab_type": "code",
        "colab": {}
      },
      "source": [
        "from torch.utils.data import Dataset\n",
        "from PIL import Image\n",
        "import os\n",
        "\n",
        "class covid(Dataset) :\n",
        "  def __init__(self, img_dir, transforms, train = True) :\n",
        "    self.img_dir = img_dir\n",
        "    self.transforms = transforms\n",
        "    self.train = train\n",
        "\n",
        "    self.image_names = []\n",
        "    for e in os.listdir(self.img_dir) :\n",
        "      print(e ,end = '\\t')\n",
        "      e = os.path.join(img_dir, e)\n",
        "      imgs = os.listdir(e)\n",
        "      imgs = [os.path.join(e,i) for i in imgs]\n",
        "      self.image_names += imgs\n",
        "      print(len(self.image_names))    \n",
        "  \n",
        "  def __getitem__(self, idx):\n",
        "    image_name =  self.image_names[idx]\n",
        "    if 'normal' in image_name :\n",
        "      label = [1, 0 , 0]\n",
        "    elif 'pneumonia' in image_name :\n",
        "      label = [0, 1, 0]\n",
        "    else :\n",
        "      label = [0, 0, 1]\n",
        "    image = Image.open(image_name).convert('RGB')\n",
        "    #image = image.convert('1')\n",
        "    \n",
        "    if self.transforms is not None :\n",
        "      image = self.transforms(image)\n",
        "    #print(image.shape)\n",
        "    # if self.train :\n",
        "    #   return image, torch.tensor(label)\n",
        "    # else :\n",
        "    #   return image\n",
        "    return image, torch.tensor(label)\n",
        "\n",
        "  def __len__(self) :\n",
        "    return len(self.image_names) "
      ],
      "execution_count": 0,
      "outputs": []
    },
    {
      "cell_type": "markdown",
      "metadata": {
        "id": "9WcSUOEowOLD",
        "colab_type": "text"
      },
      "source": [
        "###### Setup up image directories and image dimensions"
      ]
    },
    {
      "cell_type": "code",
      "metadata": {
        "id": "2fn9GnGK15HX",
        "colab_type": "code",
        "colab": {}
      },
      "source": [
        "from torchvision import transforms\n",
        "\n",
        "image_size = 512\n",
        "data_train_folder = '/content/drive/My Drive/data/all/train'\n",
        "data_test_folder = '/content/drive/My Drive/data/all/test'\n",
        "transformations = transforms.Compose([transforms.Resize((image_size, image_size)),\n",
        "                                               #transforms.CenterCrop(image_size),\n",
        "                                               transforms.ToTensor(),\n",
        "                                               transforms.Normalize(mean=[0.485, 0.456, 0.406], std=[0.229, 0.224, 0.225]),\n",
        "                                               #transforms.Normalize((0.5,0.5,0.5), (0.5,0.5,0.5)),\n",
        "                                               ])"
      ],
      "execution_count": 0,
      "outputs": []
    },
    {
      "cell_type": "markdown",
      "metadata": {
        "id": "fu4_jiK5wX6H",
        "colab_type": "text"
      },
      "source": [
        "###### Create train and test instances of dataset "
      ]
    },
    {
      "cell_type": "code",
      "metadata": {
        "id": "cWiNefWHCeth",
        "colab_type": "code",
        "outputId": "bf644867-e102-4d51-999f-bc6178753994",
        "colab": {
          "base_uri": "https://localhost:8080/",
          "height": 151
        }
      },
      "source": [
        "train_dataset = covid(img_dir = data_train_folder, transforms = transformations ,train = True)\n",
        "test_dataset = covid(img_dir = data_test_folder, transforms = transformations, train = False)"
      ],
      "execution_count": 0,
      "outputs": [
        {
          "output_type": "stream",
          "text": [
            "normal\t70\n",
            "covid\t130\n",
            "pneumonia_bac\t200\n",
            "pneumonia_vir\t270\n",
            "covid\t9\n",
            "pneumonia_vir\t18\n",
            "pneumonia_bac\t27\n",
            "normal\t36\n"
          ],
          "name": "stdout"
        }
      ]
    },
    {
      "cell_type": "markdown",
      "metadata": {
        "id": "6CfeJ48xw8Fo",
        "colab_type": "text"
      },
      "source": [
        "# Creating Helper Functions"
      ]
    },
    {
      "cell_type": "markdown",
      "metadata": {
        "id": "ARZwP2sVxNzq",
        "colab_type": "text"
      },
      "source": [
        "###### Dictionary of Encoded Labels"
      ]
    },
    {
      "cell_type": "code",
      "metadata": {
        "id": "D5GVXGElxBij",
        "colab_type": "code",
        "colab": {}
      },
      "source": [
        "#Encoding for labels\n",
        "encoding = {0:'Normal', 1:'Pneumonic', 2:'Covid'}"
      ],
      "execution_count": 0,
      "outputs": []
    },
    {
      "cell_type": "markdown",
      "metadata": {
        "id": "B4Zhdz_pxL_4",
        "colab_type": "text"
      },
      "source": [
        "###### Retrieve encodings from Class Indices"
      ]
    },
    {
      "cell_type": "code",
      "metadata": {
        "id": "FJrojmUWuCgi",
        "colab_type": "code",
        "colab": {}
      },
      "source": [
        "#Function to Retrieve encodings from Class Indices\n",
        "\n",
        "def get_encoding(y) :\n",
        "  result = []\n",
        "  indices = []\n",
        "  for e in y :\n",
        "    e = torch.argmax(e).item()\n",
        "    result.append(encoding[e])\n",
        "    indices.append(e)\n",
        "  return indices, result"
      ],
      "execution_count": 0,
      "outputs": []
    },
    {
      "cell_type": "code",
      "metadata": {
        "id": "tOrrIzAFerhu",
        "colab_type": "code",
        "colab": {}
      },
      "source": [
        "# def get_encoding(x) :\n",
        "#   temp = np.array(0)\n",
        "#   if type(x) != type(temp) :\n",
        "#     x = np.array(x)\n",
        "#   print(type(x))\n",
        "  \n",
        "#   for e in x :\n",
        "#     return encoding[e]\n",
        "\n",
        "# get_encoding(1)"
      ],
      "execution_count": 0,
      "outputs": []
    },
    {
      "cell_type": "markdown",
      "metadata": {
        "id": "Loc3uGDExTSg",
        "colab_type": "text"
      },
      "source": [
        "###### Denormalize images for plotting"
      ]
    },
    {
      "cell_type": "code",
      "metadata": {
        "id": "PJnE3_5WDnNk",
        "colab_type": "code",
        "colab": {}
      },
      "source": [
        "#Function to Denormalize Normalized Image Tensor\n",
        "\n",
        "def denorm(x) :\n",
        "  out = (x*.225 + 0.486)\n",
        "  return out.clamp(0,1)"
      ],
      "execution_count": 0,
      "outputs": []
    },
    {
      "cell_type": "markdown",
      "metadata": {
        "id": "QbAXkK0exYRo",
        "colab_type": "text"
      },
      "source": [
        "###### Display image"
      ]
    },
    {
      "cell_type": "code",
      "metadata": {
        "id": "Us_BaAWjNUz1",
        "colab_type": "code",
        "outputId": "8b89b861-233d-4fcf-cb4c-4298756c1d73",
        "colab": {
          "base_uri": "https://localhost:8080/",
          "height": 34
        }
      },
      "source": [
        "#Looking at one image\n",
        "import matplotlib.pyplot as plt\n",
        "from matplotlib.pyplot import figure\n",
        "%matplotlib inline\n",
        "figure(num=None, figsize=(10, 6), dpi=80, facecolor='w', edgecolor='k')\n",
        "\n",
        "\n",
        "def imgshow(x, y) :\n",
        "  denorm_x = denorm(x)\n",
        "  print('Image Shape: ',denorm_x.shape)\n",
        "  plt.imshow(denorm_x[0], cmap = 'gray')\n",
        "  plt.title(encoding[torch.max(y).item()])\n",
        "  plt.show()"
      ],
      "execution_count": 0,
      "outputs": [
        {
          "output_type": "display_data",
          "data": {
            "text/plain": [
              "<Figure size 800x480 with 0 Axes>"
            ]
          },
          "metadata": {
            "tags": []
          }
        }
      ]
    },
    {
      "cell_type": "markdown",
      "metadata": {
        "id": "PYkZ_aa6xcOH",
        "colab_type": "text"
      },
      "source": [
        "###### Gradient reseting after minibatch iteration"
      ]
    },
    {
      "cell_type": "code",
      "metadata": {
        "id": "hhjObO7dumtT",
        "colab_type": "code",
        "colab": {}
      },
      "source": [
        "#setting accumulated gradients to zero\n",
        "\n",
        "def reset_grads() :\n",
        "  optimizer.zero_grad()"
      ],
      "execution_count": 0,
      "outputs": []
    },
    {
      "cell_type": "markdown",
      "metadata": {
        "id": "a0ash5Xdxk2c",
        "colab_type": "text"
      },
      "source": [
        "# Viewing the Dataset"
      ]
    },
    {
      "cell_type": "code",
      "metadata": {
        "id": "8Z9DDvpODBSB",
        "colab_type": "code",
        "outputId": "d174f90f-f265-40f7-a331-c557d83989ef",
        "colab": {
          "base_uri": "https://localhost:8080/",
          "height": 118
        }
      },
      "source": [
        "#Train Set Stats\n",
        "print('Length of Dataset :',len(train_dataset))\n",
        "im, tar = train_dataset[0] #use __getitem__ to get first example\n",
        "print(type(im), im.shape)\n",
        "print(type(tar), tar.shape)\n",
        "print(tar)\n",
        "print(torch.max(tar).item())\n",
        "\n",
        "torch.min(im), torch.max(im)"
      ],
      "execution_count": 0,
      "outputs": [
        {
          "output_type": "stream",
          "text": [
            "Length of Dataset : 270\n",
            "<class 'torch.Tensor'> torch.Size([3, 512, 512])\n",
            "<class 'torch.Tensor'> torch.Size([3])\n",
            "tensor([1, 0, 0])\n",
            "1\n"
          ],
          "name": "stdout"
        },
        {
          "output_type": "execute_result",
          "data": {
            "text/plain": [
              "(tensor(-2.1179), tensor(2.6400))"
            ]
          },
          "metadata": {
            "tags": []
          },
          "execution_count": 65
        }
      ]
    },
    {
      "cell_type": "code",
      "metadata": {
        "id": "2kAhb4QzPo6N",
        "colab_type": "code",
        "outputId": "4efeb068-5b25-401b-ee27-8ab480ab24a2",
        "colab": {
          "base_uri": "https://localhost:8080/",
          "height": 67
        }
      },
      "source": [
        "#Test Set Stats\n",
        "print('Length of Dataset :',len(test_dataset))\n",
        "im,_ = test_dataset[0] #use __getitem__ to get first example\n",
        "print(type(im), im.shape)\n",
        "\n",
        "torch.min(im), torch.max(im)"
      ],
      "execution_count": 0,
      "outputs": [
        {
          "output_type": "stream",
          "text": [
            "Length of Dataset : 36\n",
            "<class 'torch.Tensor'> torch.Size([3, 512, 512])\n"
          ],
          "name": "stdout"
        },
        {
          "output_type": "execute_result",
          "data": {
            "text/plain": [
              "(tensor(-2.1179), tensor(2.5529))"
            ]
          },
          "metadata": {
            "tags": []
          },
          "execution_count": 66
        }
      ]
    },
    {
      "cell_type": "markdown",
      "metadata": {
        "id": "HyzYTsaixqs_",
        "colab_type": "text"
      },
      "source": [
        "# Creating Train and Test Dataset Loaders"
      ]
    },
    {
      "cell_type": "code",
      "metadata": {
        "id": "mYf4IQfkOXJJ",
        "colab_type": "code",
        "colab": {}
      },
      "source": [
        "#Loader parameters\n",
        "batch_size = 4\n",
        "workers = 4\n",
        "\n",
        "#Creating DataLoader\n",
        "from torch.utils.data import DataLoader #returns batch of img and label\n",
        "\n",
        "train_data_loader = DataLoader(train_dataset, batch_size = batch_size, shuffle = True, num_workers = workers, pin_memory = True)\n",
        "test_data_loader = DataLoader(test_dataset, batch_size = batch_size, shuffle = True, num_workers = workers, pin_memory = True)"
      ],
      "execution_count": 0,
      "outputs": []
    },
    {
      "cell_type": "code",
      "metadata": {
        "id": "MR7WpwOBQXYg",
        "colab_type": "code",
        "outputId": "58d2938a-4b73-4c2f-f2a6-8fbafeb11940",
        "colab": {
          "base_uri": "https://localhost:8080/",
          "height": 348
        }
      },
      "source": [
        "#View a sample from train data loader\n",
        "\n",
        "for idx, (img_batch, label_batch) in enumerate(train_data_loader) :\n",
        "  print('Size of Image Batch:', len(img_batch))    #img_batch dimensions ==>  [batch_size, channel, height, width]\n",
        "  print('Shape of Image Batch:', img_batch.shape)\n",
        "  print('Shape of Label Batch:', label_batch.shape) #label batch shape \n",
        "  imgshow(img_batch[0], label_batch[0])\n",
        "  break"
      ],
      "execution_count": 0,
      "outputs": [
        {
          "output_type": "stream",
          "text": [
            "Size of Image Batch: 4\n",
            "Shape of Image Batch: torch.Size([4, 3, 512, 512])\n",
            "Shape of Label Batch: torch.Size([4, 3])\n",
            "Image Shape:  torch.Size([3, 512, 512])\n"
          ],
          "name": "stdout"
        },
        {
          "output_type": "display_data",
          "data": {
            "image/png": "[encoded data removed]",
            "text/plain": [
              "<Figure size 432x288 with 1 Axes>"
            ]
          },
          "metadata": {
            "tags": [],
            "needs_background": "light"
          }
        }
      ]
    },
    {
      "cell_type": "code",
      "metadata": {
        "id": "kXEudDEXQaoy",
        "colab_type": "code",
        "outputId": "7807517d-89c4-4e0d-8350-71a71c0a1464",
        "colab": {
          "base_uri": "https://localhost:8080/",
          "height": 331
        }
      },
      "source": [
        "#View a sample from test data loader\n",
        "\n",
        "for idx, (img_batch, label_batch) in enumerate(test_data_loader) :\n",
        "  print('Size of Image Batch:', len(img_batch))    #img_batch dimensions ==>  [batch_size, channel, height, width]\n",
        "  print('Shape of Image Batch:', img_batch.shape)\n",
        "  #print('Shape of Label Batch:', label_batch.shape)\n",
        "  imgshow(img_batch[0], label_batch[0])\n",
        "  break"
      ],
      "execution_count": 0,
      "outputs": [
        {
          "output_type": "stream",
          "text": [
            "Size of Image Batch: 4\n",
            "Shape of Image Batch: torch.Size([4, 3, 512, 512])\n",
            "Image Shape:  torch.Size([3, 512, 512])\n"
          ],
          "name": "stdout"
        },
        {
          "output_type": "display_data",
          "data": {
            "image/png": "[encoded data removed]",
            "text/plain": [
              "<Figure size 432x288 with 1 Axes>"
            ]
          },
          "metadata": {
            "tags": [],
            "needs_background": "light"
          }
        }
      ]
    },
    {
      "cell_type": "markdown",
      "metadata": {
        "id": "jqaT0txhxxz0",
        "colab_type": "text"
      },
      "source": [
        "# Getting our Neural Network"
      ]
    },
    {
      "cell_type": "markdown",
      "metadata": {
        "id": "37-J0Jisx3XZ",
        "colab_type": "text"
      },
      "source": [
        "###### Here we use a pretrained model of Resnet50 which we further fine tune\n"
      ]
    },
    {
      "cell_type": "code",
      "metadata": {
        "id": "KZ_LSHnQRzL_",
        "colab_type": "code",
        "colab": {}
      },
      "source": [
        "import torchvision.models as models\n",
        "import torch.nn as nn\n",
        "\n",
        "resnet50 = models.resnet50(pretrained=True)"
      ],
      "execution_count": 0,
      "outputs": []
    },
    {
      "cell_type": "code",
      "metadata": {
        "id": "Mpf53nZjaPTE",
        "colab_type": "code",
        "colab": {}
      },
      "source": [
        "#Freezing parameters\n",
        "for param in resnet50.parameters():\n",
        "    param.requires_grad = False"
      ],
      "execution_count": 0,
      "outputs": []
    },
    {
      "cell_type": "code",
      "metadata": {
        "id": "7V2cNiyqsRgY",
        "colab_type": "code",
        "colab": {}
      },
      "source": [
        "#Modifying last Fully Connected Layer to output 3 values\n",
        "resnet50.fc = nn.Linear(2048 ,3)"
      ],
      "execution_count": 0,
      "outputs": []
    },
    {
      "cell_type": "code",
      "metadata": {
        "id": "SCEKWxRvd39U",
        "colab_type": "code",
        "colab": {}
      },
      "source": [
        "# import torch.nn as nn\n",
        "# import torch.nn.functional as F\n",
        "\n",
        "# class add_model(nn.Module) :\n",
        "#   def __init__(self) :\n",
        "#     super(add_model, self).__init__()\n",
        "#     self.fc1 = nn.Linear(1000, 128, bias = True)\n",
        "#     self.fc2 = nn.Linear(128, 3, bias = True) \n",
        "  \n",
        "#   def forward(self, x) :\n",
        "#     z = F.relu(self.fc1(x))\n",
        "#     z = self.fc2(z)\n",
        "\n",
        "#     return z"
      ],
      "execution_count": 0,
      "outputs": []
    },
    {
      "cell_type": "code",
      "metadata": {
        "id": "AmUJyAz_gVzd",
        "colab_type": "code",
        "colab": {}
      },
      "source": [
        "# addition = add_model()\n",
        "# #addition.eval()"
      ],
      "execution_count": 0,
      "outputs": []
    },
    {
      "cell_type": "code",
      "metadata": {
        "id": "Jo2711KWe9cs",
        "colab_type": "code",
        "colab": {}
      },
      "source": [
        "# #num_ftrs = resnet.fc.in_features\n",
        "# model = nn.Sequential(resnet50, addition)\n",
        "# model.to(device)\n",
        "# model.eval()"
      ],
      "execution_count": 0,
      "outputs": []
    },
    {
      "cell_type": "markdown",
      "metadata": {
        "id": "WGKNO9_jyJZE",
        "colab_type": "text"
      },
      "source": [
        "# Defining Loss Criterion and Optimizer"
      ]
    },
    {
      "cell_type": "code",
      "metadata": {
        "id": "KFXG_CM7SIG8",
        "colab_type": "code",
        "colab": {}
      },
      "source": [
        "import torch.nn as nn\n",
        "import torch.nn.functional as F\n",
        "import torch.optim as optim\n",
        "\n",
        "summed = 70 + 60 + 140\n",
        "weight = torch.tensor([summed / 70, summed / 60, summed / 140])\n",
        "learning_rate = 0.001\n",
        "criterion = nn.CrossEntropyLoss(weight = weight.to(device))\n",
        "optimizer = optim.Adam(resnet50.parameters(), lr = learning_rate)"
      ],
      "execution_count": 0,
      "outputs": []
    },
    {
      "cell_type": "code",
      "metadata": {
        "id": "4mz41ZI5hLNl",
        "colab_type": "code",
        "colab": {}
      },
      "source": [
        ""
      ],
      "execution_count": 0,
      "outputs": []
    },
    {
      "cell_type": "code",
      "metadata": {
        "id": "-bdtBfkUSIA0",
        "colab_type": "code",
        "colab": {}
      },
      "source": [
        ""
      ],
      "execution_count": 0,
      "outputs": []
    },
    {
      "cell_type": "code",
      "metadata": {
        "id": "3TWIMrhoi9EE",
        "colab_type": "code",
        "outputId": "537c9428-d27e-4aea-e993-9b64a925762e",
        "colab": {
          "base_uri": "https://localhost:8080/",
          "height": 1000
        }
      },
      "source": [
        "#Move model to device and set it in evaluate mode\n",
        "\n",
        "resnet50.to(device)\n",
        "resnet50.eval()"
      ],
      "execution_count": 0,
      "outputs": [
        {
          "output_type": "execute_result",
          "data": {
            "text/plain": [
              "ResNet(\n",
              "  (conv1): Conv2d(3, 64, kernel_size=(7, 7), stride=(2, 2), padding=(3, 3), bias=False)\n",
              "  (bn1): BatchNorm2d(64, eps=1e-05, momentum=0.1, affine=True, track_running_stats=True)\n",
              "  (relu): ReLU(inplace=True)\n",
              "  (maxpool): MaxPool2d(kernel_size=3, stride=2, padding=1, dilation=1, ceil_mode=False)\n",
              "  (layer1): Sequential(\n",
              "    (0): Bottleneck(\n",
              "      (conv1): Conv2d(64, 64, kernel_size=(1, 1), stride=(1, 1), bias=False)\n",
              "      (bn1): BatchNorm2d(64, eps=1e-05, momentum=0.1, affine=True, track_running_stats=True)\n",
              "      (conv2): Conv2d(64, 64, kernel_size=(3, 3), stride=(1, 1), padding=(1, 1), bias=False)\n",
              "      (bn2): BatchNorm2d(64, eps=1e-05, momentum=0.1, affine=True, track_running_stats=True)\n",
              "      (conv3): Conv2d(64, 256, kernel_size=(1, 1), stride=(1, 1), bias=False)\n",
              "      (bn3): BatchNorm2d(256, eps=1e-05, momentum=0.1, affine=True, track_running_stats=True)\n",
              "      (relu): ReLU(inplace=True)\n",
              "      (downsample): Sequential(\n",
              "        (0): Conv2d(64, 256, kernel_size=(1, 1), stride=(1, 1), bias=False)\n",
              "        (1): BatchNorm2d(256, eps=1e-05, momentum=0.1, affine=True, track_running_stats=True)\n",
              "      )\n",
              "    )\n",
              "    (1): Bottleneck(\n",
              "      (conv1): Conv2d(256, 64, kernel_size=(1, 1), stride=(1, 1), bias=False)\n",
              "      (bn1): BatchNorm2d(64, eps=1e-05, momentum=0.1, affine=True, track_running_stats=True)\n",
              "      (conv2): Conv2d(64, 64, kernel_size=(3, 3), stride=(1, 1), padding=(1, 1), bias=False)\n",
              "      (bn2): BatchNorm2d(64, eps=1e-05, momentum=0.1, affine=True, track_running_stats=True)\n",
              "      (conv3): Conv2d(64, 256, kernel_size=(1, 1), stride=(1, 1), bias=False)\n",
              "      (bn3): BatchNorm2d(256, eps=1e-05, momentum=0.1, affine=True, track_running_stats=True)\n",
              "      (relu): ReLU(inplace=True)\n",
              "    )\n",
              "    (2): Bottleneck(\n",
              "      (conv1): Conv2d(256, 64, kernel_size=(1, 1), stride=(1, 1), bias=False)\n",
              "      (bn1): BatchNorm2d(64, eps=1e-05, momentum=0.1, affine=True, track_running_stats=True)\n",
              "      (conv2): Conv2d(64, 64, kernel_size=(3, 3), stride=(1, 1), padding=(1, 1), bias=False)\n",
              "      (bn2): BatchNorm2d(64, eps=1e-05, momentum=0.1, affine=True, track_running_stats=True)\n",
              "      (conv3): Conv2d(64, 256, kernel_size=(1, 1), stride=(1, 1), bias=False)\n",
              "      (bn3): BatchNorm2d(256, eps=1e-05, momentum=0.1, affine=True, track_running_stats=True)\n",
              "      (relu): ReLU(inplace=True)\n",
              "    )\n",
              "  )\n",
              "  (layer2): Sequential(\n",
              "    (0): Bottleneck(\n",
              "      (conv1): Conv2d(256, 128, kernel_size=(1, 1), stride=(1, 1), bias=False)\n",
              "      (bn1): BatchNorm2d(128, eps=1e-05, momentum=0.1, affine=True, track_running_stats=True)\n",
              "      (conv2): Conv2d(128, 128, kernel_size=(3, 3), stride=(2, 2), padding=(1, 1), bias=False)\n",
              "      (bn2): BatchNorm2d(128, eps=1e-05, momentum=0.1, affine=True, track_running_stats=True)\n",
              "      (conv3): Conv2d(128, 512, kernel_size=(1, 1), stride=(1, 1), bias=False)\n",
              "      (bn3): BatchNorm2d(512, eps=1e-05, momentum=0.1, affine=True, track_running_stats=True)\n",
              "      (relu): ReLU(inplace=True)\n",
              "      (downsample): Sequential(\n",
              "        (0): Conv2d(256, 512, kernel_size=(1, 1), stride=(2, 2), bias=False)\n",
              "        (1): BatchNorm2d(512, eps=1e-05, momentum=0.1, affine=True, track_running_stats=True)\n",
              "      )\n",
              "    )\n",
              "    (1): Bottleneck(\n",
              "      (conv1): Conv2d(512, 128, kernel_size=(1, 1), stride=(1, 1), bias=False)\n",
              "      (bn1): BatchNorm2d(128, eps=1e-05, momentum=0.1, affine=True, track_running_stats=True)\n",
              "      (conv2): Conv2d(128, 128, kernel_size=(3, 3), stride=(1, 1), padding=(1, 1), bias=False)\n",
              "      (bn2): BatchNorm2d(128, eps=1e-05, momentum=0.1, affine=True, track_running_stats=True)\n",
              "      (conv3): Conv2d(128, 512, kernel_size=(1, 1), stride=(1, 1), bias=False)\n",
              "      (bn3): BatchNorm2d(512, eps=1e-05, momentum=0.1, affine=True, track_running_stats=True)\n",
              "      (relu): ReLU(inplace=True)\n",
              "    )\n",
              "    (2): Bottleneck(\n",
              "      (conv1): Conv2d(512, 128, kernel_size=(1, 1), stride=(1, 1), bias=False)\n",
              "      (bn1): BatchNorm2d(128, eps=1e-05, momentum=0.1, affine=True, track_running_stats=True)\n",
              "      (conv2): Conv2d(128, 128, kernel_size=(3, 3), stride=(1, 1), padding=(1, 1), bias=False)\n",
              "      (bn2): BatchNorm2d(128, eps=1e-05, momentum=0.1, affine=True, track_running_stats=True)\n",
              "      (conv3): Conv2d(128, 512, kernel_size=(1, 1), stride=(1, 1), bias=False)\n",
              "      (bn3): BatchNorm2d(512, eps=1e-05, momentum=0.1, affine=True, track_running_stats=True)\n",
              "      (relu): ReLU(inplace=True)\n",
              "    )\n",
              "    (3): Bottleneck(\n",
              "      (conv1): Conv2d(512, 128, kernel_size=(1, 1), stride=(1, 1), bias=False)\n",
              "      (bn1): BatchNorm2d(128, eps=1e-05, momentum=0.1, affine=True, track_running_stats=True)\n",
              "      (conv2): Conv2d(128, 128, kernel_size=(3, 3), stride=(1, 1), padding=(1, 1), bias=False)\n",
              "      (bn2): BatchNorm2d(128, eps=1e-05, momentum=0.1, affine=True, track_running_stats=True)\n",
              "      (conv3): Conv2d(128, 512, kernel_size=(1, 1), stride=(1, 1), bias=False)\n",
              "      (bn3): BatchNorm2d(512, eps=1e-05, momentum=0.1, affine=True, track_running_stats=True)\n",
              "      (relu): ReLU(inplace=True)\n",
              "    )\n",
              "  )\n",
              "  (layer3): Sequential(\n",
              "    (0): Bottleneck(\n",
              "      (conv1): Conv2d(512, 256, kernel_size=(1, 1), stride=(1, 1), bias=False)\n",
              "      (bn1): BatchNorm2d(256, eps=1e-05, momentum=0.1, affine=True, track_running_stats=True)\n",
              "      (conv2): Conv2d(256, 256, kernel_size=(3, 3), stride=(2, 2), padding=(1, 1), bias=False)\n",
              "      (bn2): BatchNorm2d(256, eps=1e-05, momentum=0.1, affine=True, track_running_stats=True)\n",
              "      (conv3): Conv2d(256, 1024, kernel_size=(1, 1), stride=(1, 1), bias=False)\n",
              "      (bn3): BatchNorm2d(1024, eps=1e-05, momentum=0.1, affine=True, track_running_stats=True)\n",
              "      (relu): ReLU(inplace=True)\n",
              "      (downsample): Sequential(\n",
              "        (0): Conv2d(512, 1024, kernel_size=(1, 1), stride=(2, 2), bias=False)\n",
              "        (1): BatchNorm2d(1024, eps=1e-05, momentum=0.1, affine=True, track_running_stats=True)\n",
              "      )\n",
              "    )\n",
              "    (1): Bottleneck(\n",
              "      (conv1): Conv2d(1024, 256, kernel_size=(1, 1), stride=(1, 1), bias=False)\n",
              "      (bn1): BatchNorm2d(256, eps=1e-05, momentum=0.1, affine=True, track_running_stats=True)\n",
              "      (conv2): Conv2d(256, 256, kernel_size=(3, 3), stride=(1, 1), padding=(1, 1), bias=False)\n",
              "      (bn2): BatchNorm2d(256, eps=1e-05, momentum=0.1, affine=True, track_running_stats=True)\n",
              "      (conv3): Conv2d(256, 1024, kernel_size=(1, 1), stride=(1, 1), bias=False)\n",
              "      (bn3): BatchNorm2d(1024, eps=1e-05, momentum=0.1, affine=True, track_running_stats=True)\n",
              "      (relu): ReLU(inplace=True)\n",
              "    )\n",
              "    (2): Bottleneck(\n",
              "      (conv1): Conv2d(1024, 256, kernel_size=(1, 1), stride=(1, 1), bias=False)\n",
              "      (bn1): BatchNorm2d(256, eps=1e-05, momentum=0.1, affine=True, track_running_stats=True)\n",
              "      (conv2): Conv2d(256, 256, kernel_size=(3, 3), stride=(1, 1), padding=(1, 1), bias=False)\n",
              "      (bn2): BatchNorm2d(256, eps=1e-05, momentum=0.1, affine=True, track_running_stats=True)\n",
              "      (conv3): Conv2d(256, 1024, kernel_size=(1, 1), stride=(1, 1), bias=False)\n",
              "      (bn3): BatchNorm2d(1024, eps=1e-05, momentum=0.1, affine=True, track_running_stats=True)\n",
              "      (relu): ReLU(inplace=True)\n",
              "    )\n",
              "    (3): Bottleneck(\n",
              "      (conv1): Conv2d(1024, 256, kernel_size=(1, 1), stride=(1, 1), bias=False)\n",
              "      (bn1): BatchNorm2d(256, eps=1e-05, momentum=0.1, affine=True, track_running_stats=True)\n",
              "      (conv2): Conv2d(256, 256, kernel_size=(3, 3), stride=(1, 1), padding=(1, 1), bias=False)\n",
              "      (bn2): BatchNorm2d(256, eps=1e-05, momentum=0.1, affine=True, track_running_stats=True)\n",
              "      (conv3): Conv2d(256, 1024, kernel_size=(1, 1), stride=(1, 1), bias=False)\n",
              "      (bn3): BatchNorm2d(1024, eps=1e-05, momentum=0.1, affine=True, track_running_stats=True)\n",
              "      (relu): ReLU(inplace=True)\n",
              "    )\n",
              "    (4): Bottleneck(\n",
              "      (conv1): Conv2d(1024, 256, kernel_size=(1, 1), stride=(1, 1), bias=False)\n",
              "      (bn1): BatchNorm2d(256, eps=1e-05, momentum=0.1, affine=True, track_running_stats=True)\n",
              "      (conv2): Conv2d(256, 256, kernel_size=(3, 3), stride=(1, 1), padding=(1, 1), bias=False)\n",
              "      (bn2): BatchNorm2d(256, eps=1e-05, momentum=0.1, affine=True, track_running_stats=True)\n",
              "      (conv3): Conv2d(256, 1024, kernel_size=(1, 1), stride=(1, 1), bias=False)\n",
              "      (bn3): BatchNorm2d(1024, eps=1e-05, momentum=0.1, affine=True, track_running_stats=True)\n",
              "      (relu): ReLU(inplace=True)\n",
              "    )\n",
              "    (5): Bottleneck(\n",
              "      (conv1): Conv2d(1024, 256, kernel_size=(1, 1), stride=(1, 1), bias=False)\n",
              "      (bn1): BatchNorm2d(256, eps=1e-05, momentum=0.1, affine=True, track_running_stats=True)\n",
              "      (conv2): Conv2d(256, 256, kernel_size=(3, 3), stride=(1, 1), padding=(1, 1), bias=False)\n",
              "      (bn2): BatchNorm2d(256, eps=1e-05, momentum=0.1, affine=True, track_running_stats=True)\n",
              "      (conv3): Conv2d(256, 1024, kernel_size=(1, 1), stride=(1, 1), bias=False)\n",
              "      (bn3): BatchNorm2d(1024, eps=1e-05, momentum=0.1, affine=True, track_running_stats=True)\n",
              "      (relu): ReLU(inplace=True)\n",
              "    )\n",
              "  )\n",
              "  (layer4): Sequential(\n",
              "    (0): Bottleneck(\n",
              "      (conv1): Conv2d(1024, 512, kernel_size=(1, 1), stride=(1, 1), bias=False)\n",
              "      (bn1): BatchNorm2d(512, eps=1e-05, momentum=0.1, affine=True, track_running_stats=True)\n",
              "      (conv2): Conv2d(512, 512, kernel_size=(3, 3), stride=(2, 2), padding=(1, 1), bias=False)\n",
              "      (bn2): BatchNorm2d(512, eps=1e-05, momentum=0.1, affine=True, track_running_stats=True)\n",
              "      (conv3): Conv2d(512, 2048, kernel_size=(1, 1), stride=(1, 1), bias=False)\n",
              "      (bn3): BatchNorm2d(2048, eps=1e-05, momentum=0.1, affine=True, track_running_stats=True)\n",
              "      (relu): ReLU(inplace=True)\n",
              "      (downsample): Sequential(\n",
              "        (0): Conv2d(1024, 2048, kernel_size=(1, 1), stride=(2, 2), bias=False)\n",
              "        (1): BatchNorm2d(2048, eps=1e-05, momentum=0.1, affine=True, track_running_stats=True)\n",
              "      )\n",
              "    )\n",
              "    (1): Bottleneck(\n",
              "      (conv1): Conv2d(2048, 512, kernel_size=(1, 1), stride=(1, 1), bias=False)\n",
              "      (bn1): BatchNorm2d(512, eps=1e-05, momentum=0.1, affine=True, track_running_stats=True)\n",
              "      (conv2): Conv2d(512, 512, kernel_size=(3, 3), stride=(1, 1), padding=(1, 1), bias=False)\n",
              "      (bn2): BatchNorm2d(512, eps=1e-05, momentum=0.1, affine=True, track_running_stats=True)\n",
              "      (conv3): Conv2d(512, 2048, kernel_size=(1, 1), stride=(1, 1), bias=False)\n",
              "      (bn3): BatchNorm2d(2048, eps=1e-05, momentum=0.1, affine=True, track_running_stats=True)\n",
              "      (relu): ReLU(inplace=True)\n",
              "    )\n",
              "    (2): Bottleneck(\n",
              "      (conv1): Conv2d(2048, 512, kernel_size=(1, 1), stride=(1, 1), bias=False)\n",
              "      (bn1): BatchNorm2d(512, eps=1e-05, momentum=0.1, affine=True, track_running_stats=True)\n",
              "      (conv2): Conv2d(512, 512, kernel_size=(3, 3), stride=(1, 1), padding=(1, 1), bias=False)\n",
              "      (bn2): BatchNorm2d(512, eps=1e-05, momentum=0.1, affine=True, track_running_stats=True)\n",
              "      (conv3): Conv2d(512, 2048, kernel_size=(1, 1), stride=(1, 1), bias=False)\n",
              "      (bn3): BatchNorm2d(2048, eps=1e-05, momentum=0.1, affine=True, track_running_stats=True)\n",
              "      (relu): ReLU(inplace=True)\n",
              "    )\n",
              "  )\n",
              "  (avgpool): AdaptiveAvgPool2d(output_size=(1, 1))\n",
              "  (fc): Linear(in_features=2048, out_features=3, bias=True)\n",
              ")"
            ]
          },
          "metadata": {
            "tags": []
          },
          "execution_count": 86
        }
      ]
    },
    {
      "cell_type": "markdown",
      "metadata": {
        "id": "HOnjPlrpydSR",
        "colab_type": "text"
      },
      "source": [
        "# Training the Model"
      ]
    },
    {
      "cell_type": "code",
      "metadata": {
        "id": "25UF3H_zSH19",
        "colab_type": "code",
        "outputId": "1a2fa681-750e-4aae-fdc0-56e23b4ab56b",
        "colab": {
          "base_uri": "https://localhost:8080/",
          "height": 1000
        }
      },
      "source": [
        "max_epochs = 70\n",
        "total_step = len(train_data_loader)\n",
        "losses = []\n",
        "\n",
        "for epoch in range(max_epochs) :\n",
        "  for i, (image_batch, label_batch) in enumerate(train_data_loader) :\n",
        "    #Get predictions\n",
        "    outputs = resnet50(image_batch.to(device))\n",
        "    #outputs = torch.max(outputs, 1)[1]\n",
        "    labels = torch.max(label_batch, 1)[1]\n",
        "    # print(outputs.shape)\n",
        "    # print(labels.shape)\n",
        "\n",
        "    #Calculate Loss\n",
        "    loss = criterion(outputs, labels.to(device))\n",
        "\n",
        "    #Clear previous gradients\n",
        "    reset_grads()\n",
        "\n",
        "    #Compute gradients of loss functions wrt paramters\n",
        "    loss.backward()\n",
        "\n",
        "    #Carry one step of backpropagation\n",
        "    optimizer.step()\n",
        "\n",
        "    # Inspect the losses\n",
        "    if (i+1) % 17 == 0:\n",
        "      losses.append(loss.item())\n",
        "      print('Epoch [ {} / {} ], Step [ {} / {} ], Loss: {:.4f}, '.format(epoch, max_epochs, i+1, total_step, loss.item()))\n",
        "  torch.save(resnet50.state_dict(), 'Resnet50-epoch:{}.ckpt'.format(i + 1))\n",
        "  print('Model Saved!')\n",
        "        # if losses[-1] < losses[-2] :\n",
        "        #   torch.save(model.state_dict(), 'Resnet50-epoch:{}.ckpt'.format(i + 1))\n",
        "        #   print('Model Saved!')"
      ],
      "execution_count": 0,
      "outputs": [
        {
          "output_type": "stream",
          "text": [
            "Epoch [ 0 / 70 ], Step [ 17 / 68 ], Loss: 0.6932, \n",
            "Epoch [ 0 / 70 ], Step [ 34 / 68 ], Loss: 0.4863, \n",
            "Epoch [ 0 / 70 ], Step [ 51 / 68 ], Loss: 0.4615, \n",
            "Epoch [ 0 / 70 ], Step [ 68 / 68 ], Loss: 1.0234, \n",
            "Model Saved!\n",
            "Epoch [ 1 / 70 ], Step [ 17 / 68 ], Loss: 0.0839, \n",
            "Epoch [ 1 / 70 ], Step [ 34 / 68 ], Loss: 0.2499, \n",
            "Epoch [ 1 / 70 ], Step [ 51 / 68 ], Loss: 1.2009, \n",
            "Epoch [ 1 / 70 ], Step [ 68 / 68 ], Loss: 0.0610, \n",
            "Model Saved!\n",
            "Epoch [ 2 / 70 ], Step [ 17 / 68 ], Loss: 0.0660, \n",
            "Epoch [ 2 / 70 ], Step [ 34 / 68 ], Loss: 0.1339, \n",
            "Epoch [ 2 / 70 ], Step [ 51 / 68 ], Loss: 0.7243, \n",
            "Epoch [ 2 / 70 ], Step [ 68 / 68 ], Loss: 0.0467, \n",
            "Model Saved!\n",
            "Epoch [ 3 / 70 ], Step [ 17 / 68 ], Loss: 0.1268, \n",
            "Epoch [ 3 / 70 ], Step [ 34 / 68 ], Loss: 0.1024, \n",
            "Epoch [ 3 / 70 ], Step [ 51 / 68 ], Loss: 0.3935, \n",
            "Epoch [ 3 / 70 ], Step [ 68 / 68 ], Loss: 0.1418, \n",
            "Model Saved!\n",
            "Epoch [ 4 / 70 ], Step [ 17 / 68 ], Loss: 0.1963, \n",
            "Epoch [ 4 / 70 ], Step [ 34 / 68 ], Loss: 0.2497, \n",
            "Epoch [ 4 / 70 ], Step [ 51 / 68 ], Loss: 0.1057, \n",
            "Epoch [ 4 / 70 ], Step [ 68 / 68 ], Loss: 0.0217, \n",
            "Model Saved!\n",
            "Epoch [ 5 / 70 ], Step [ 17 / 68 ], Loss: 0.1581, \n",
            "Epoch [ 5 / 70 ], Step [ 34 / 68 ], Loss: 0.0275, \n",
            "Epoch [ 5 / 70 ], Step [ 51 / 68 ], Loss: 0.0142, \n",
            "Epoch [ 5 / 70 ], Step [ 68 / 68 ], Loss: 0.2595, \n",
            "Model Saved!\n",
            "Epoch [ 6 / 70 ], Step [ 17 / 68 ], Loss: 0.4485, \n",
            "Epoch [ 6 / 70 ], Step [ 34 / 68 ], Loss: 0.0353, \n",
            "Epoch [ 6 / 70 ], Step [ 51 / 68 ], Loss: 0.4544, \n",
            "Epoch [ 6 / 70 ], Step [ 68 / 68 ], Loss: 0.1035, \n",
            "Model Saved!\n",
            "Epoch [ 7 / 70 ], Step [ 17 / 68 ], Loss: 0.6492, \n",
            "Epoch [ 7 / 70 ], Step [ 34 / 68 ], Loss: 0.0335, \n",
            "Epoch [ 7 / 70 ], Step [ 51 / 68 ], Loss: 0.0412, \n",
            "Epoch [ 7 / 70 ], Step [ 68 / 68 ], Loss: 0.0551, \n",
            "Model Saved!\n",
            "Epoch [ 8 / 70 ], Step [ 17 / 68 ], Loss: 0.0665, \n",
            "Epoch [ 8 / 70 ], Step [ 34 / 68 ], Loss: 0.1949, \n",
            "Epoch [ 8 / 70 ], Step [ 51 / 68 ], Loss: 0.1121, \n",
            "Epoch [ 8 / 70 ], Step [ 68 / 68 ], Loss: 0.0107, \n",
            "Model Saved!\n",
            "Epoch [ 9 / 70 ], Step [ 17 / 68 ], Loss: 0.0897, \n",
            "Epoch [ 9 / 70 ], Step [ 34 / 68 ], Loss: 0.2138, \n",
            "Epoch [ 9 / 70 ], Step [ 51 / 68 ], Loss: 0.2688, \n",
            "Epoch [ 9 / 70 ], Step [ 68 / 68 ], Loss: 0.0090, \n",
            "Model Saved!\n",
            "Epoch [ 10 / 70 ], Step [ 17 / 68 ], Loss: 0.0432, \n",
            "Epoch [ 10 / 70 ], Step [ 34 / 68 ], Loss: 0.0323, \n",
            "Epoch [ 10 / 70 ], Step [ 51 / 68 ], Loss: 0.0979, \n",
            "Epoch [ 10 / 70 ], Step [ 68 / 68 ], Loss: 0.0613, \n",
            "Model Saved!\n",
            "Epoch [ 11 / 70 ], Step [ 17 / 68 ], Loss: 0.1197, \n",
            "Epoch [ 11 / 70 ], Step [ 34 / 68 ], Loss: 0.1147, \n",
            "Epoch [ 11 / 70 ], Step [ 51 / 68 ], Loss: 0.0264, \n",
            "Epoch [ 11 / 70 ], Step [ 68 / 68 ], Loss: 0.0380, \n",
            "Model Saved!\n",
            "Epoch [ 12 / 70 ], Step [ 17 / 68 ], Loss: 0.0532, \n",
            "Epoch [ 12 / 70 ], Step [ 34 / 68 ], Loss: 0.1776, \n",
            "Epoch [ 12 / 70 ], Step [ 51 / 68 ], Loss: 0.3661, \n",
            "Epoch [ 12 / 70 ], Step [ 68 / 68 ], Loss: 0.1747, \n",
            "Model Saved!\n",
            "Epoch [ 13 / 70 ], Step [ 17 / 68 ], Loss: 0.3664, \n",
            "Epoch [ 13 / 70 ], Step [ 34 / 68 ], Loss: 0.0477, \n",
            "Epoch [ 13 / 70 ], Step [ 51 / 68 ], Loss: 0.0760, \n",
            "Epoch [ 13 / 70 ], Step [ 68 / 68 ], Loss: 0.1800, \n",
            "Model Saved!\n",
            "Epoch [ 14 / 70 ], Step [ 17 / 68 ], Loss: 0.0317, \n",
            "Epoch [ 14 / 70 ], Step [ 34 / 68 ], Loss: 0.0128, \n",
            "Epoch [ 14 / 70 ], Step [ 51 / 68 ], Loss: 0.2236, \n",
            "Epoch [ 14 / 70 ], Step [ 68 / 68 ], Loss: 0.0715, \n",
            "Model Saved!\n",
            "Epoch [ 15 / 70 ], Step [ 17 / 68 ], Loss: 0.0341, \n",
            "Epoch [ 15 / 70 ], Step [ 34 / 68 ], Loss: 0.0145, \n",
            "Epoch [ 15 / 70 ], Step [ 51 / 68 ], Loss: 0.0593, \n",
            "Epoch [ 15 / 70 ], Step [ 68 / 68 ], Loss: 0.2453, \n",
            "Model Saved!\n",
            "Epoch [ 16 / 70 ], Step [ 17 / 68 ], Loss: 0.0113, \n",
            "Epoch [ 16 / 70 ], Step [ 34 / 68 ], Loss: 0.0334, \n",
            "Epoch [ 16 / 70 ], Step [ 51 / 68 ], Loss: 0.0668, \n",
            "Epoch [ 16 / 70 ], Step [ 68 / 68 ], Loss: 0.1008, \n",
            "Model Saved!\n",
            "Epoch [ 17 / 70 ], Step [ 17 / 68 ], Loss: 0.0580, \n",
            "Epoch [ 17 / 70 ], Step [ 34 / 68 ], Loss: 0.0064, \n",
            "Epoch [ 17 / 70 ], Step [ 51 / 68 ], Loss: 0.6749, \n",
            "Epoch [ 17 / 70 ], Step [ 68 / 68 ], Loss: 0.0898, \n",
            "Model Saved!\n",
            "Epoch [ 18 / 70 ], Step [ 17 / 68 ], Loss: 0.0678, \n",
            "Epoch [ 18 / 70 ], Step [ 34 / 68 ], Loss: 0.0337, \n",
            "Epoch [ 18 / 70 ], Step [ 51 / 68 ], Loss: 0.0637, \n",
            "Epoch [ 18 / 70 ], Step [ 68 / 68 ], Loss: 0.4065, \n",
            "Model Saved!\n",
            "Epoch [ 19 / 70 ], Step [ 17 / 68 ], Loss: 0.0391, \n",
            "Epoch [ 19 / 70 ], Step [ 34 / 68 ], Loss: 0.0582, \n",
            "Epoch [ 19 / 70 ], Step [ 51 / 68 ], Loss: 0.3553, \n",
            "Epoch [ 19 / 70 ], Step [ 68 / 68 ], Loss: 0.0125, \n",
            "Model Saved!\n",
            "Epoch [ 20 / 70 ], Step [ 17 / 68 ], Loss: 0.3637, \n",
            "Epoch [ 20 / 70 ], Step [ 34 / 68 ], Loss: 0.0515, \n",
            "Epoch [ 20 / 70 ], Step [ 51 / 68 ], Loss: 0.0483, \n",
            "Epoch [ 20 / 70 ], Step [ 68 / 68 ], Loss: 0.0069, \n",
            "Model Saved!\n",
            "Epoch [ 21 / 70 ], Step [ 17 / 68 ], Loss: 0.0339, \n",
            "Epoch [ 21 / 70 ], Step [ 34 / 68 ], Loss: 0.3338, \n",
            "Epoch [ 21 / 70 ], Step [ 51 / 68 ], Loss: 0.0374, \n",
            "Epoch [ 21 / 70 ], Step [ 68 / 68 ], Loss: 0.0036, \n",
            "Model Saved!\n",
            "Epoch [ 22 / 70 ], Step [ 17 / 68 ], Loss: 0.0498, \n",
            "Epoch [ 22 / 70 ], Step [ 34 / 68 ], Loss: 0.0211, \n",
            "Epoch [ 22 / 70 ], Step [ 51 / 68 ], Loss: 0.1669, \n",
            "Epoch [ 22 / 70 ], Step [ 68 / 68 ], Loss: 0.0065, \n",
            "Model Saved!\n",
            "Epoch [ 23 / 70 ], Step [ 17 / 68 ], Loss: 0.1893, \n",
            "Epoch [ 23 / 70 ], Step [ 34 / 68 ], Loss: 0.1011, \n",
            "Epoch [ 23 / 70 ], Step [ 51 / 68 ], Loss: 0.0130, \n",
            "Epoch [ 23 / 70 ], Step [ 68 / 68 ], Loss: 0.0103, \n",
            "Model Saved!\n",
            "Epoch [ 24 / 70 ], Step [ 17 / 68 ], Loss: 0.1776, \n",
            "Epoch [ 24 / 70 ], Step [ 34 / 68 ], Loss: 0.1741, \n",
            "Epoch [ 24 / 70 ], Step [ 51 / 68 ], Loss: 0.3300, \n",
            "Epoch [ 24 / 70 ], Step [ 68 / 68 ], Loss: 0.0871, \n",
            "Model Saved!\n",
            "Epoch [ 25 / 70 ], Step [ 17 / 68 ], Loss: 0.0674, \n",
            "Epoch [ 25 / 70 ], Step [ 34 / 68 ], Loss: 0.0463, \n",
            "Epoch [ 25 / 70 ], Step [ 51 / 68 ], Loss: 0.0502, \n",
            "Epoch [ 25 / 70 ], Step [ 68 / 68 ], Loss: 0.0057, \n",
            "Model Saved!\n",
            "Epoch [ 26 / 70 ], Step [ 17 / 68 ], Loss: 0.1708, \n",
            "Epoch [ 26 / 70 ], Step [ 34 / 68 ], Loss: 0.0520, \n",
            "Epoch [ 26 / 70 ], Step [ 51 / 68 ], Loss: 0.0362, \n",
            "Epoch [ 26 / 70 ], Step [ 68 / 68 ], Loss: 0.0179, \n",
            "Model Saved!\n",
            "Epoch [ 27 / 70 ], Step [ 17 / 68 ], Loss: 0.0531, \n",
            "Epoch [ 27 / 70 ], Step [ 34 / 68 ], Loss: 0.4321, \n",
            "Epoch [ 27 / 70 ], Step [ 51 / 68 ], Loss: 0.2569, \n",
            "Epoch [ 27 / 70 ], Step [ 68 / 68 ], Loss: 0.0028, \n",
            "Model Saved!\n",
            "Epoch [ 28 / 70 ], Step [ 17 / 68 ], Loss: 0.0904, \n",
            "Epoch [ 28 / 70 ], Step [ 34 / 68 ], Loss: 0.0274, \n",
            "Epoch [ 28 / 70 ], Step [ 51 / 68 ], Loss: 0.0273, \n",
            "Epoch [ 28 / 70 ], Step [ 68 / 68 ], Loss: 0.0106, \n",
            "Model Saved!\n",
            "Epoch [ 29 / 70 ], Step [ 17 / 68 ], Loss: 0.1299, \n",
            "Epoch [ 29 / 70 ], Step [ 34 / 68 ], Loss: 0.0219, \n",
            "Epoch [ 29 / 70 ], Step [ 51 / 68 ], Loss: 0.0156, \n",
            "Epoch [ 29 / 70 ], Step [ 68 / 68 ], Loss: 0.0173, \n",
            "Model Saved!\n",
            "Epoch [ 30 / 70 ], Step [ 17 / 68 ], Loss: 0.0168, \n",
            "Epoch [ 30 / 70 ], Step [ 34 / 68 ], Loss: 0.0269, \n",
            "Epoch [ 30 / 70 ], Step [ 51 / 68 ], Loss: 0.0261, \n",
            "Epoch [ 30 / 70 ], Step [ 68 / 68 ], Loss: 0.0117, \n",
            "Model Saved!\n",
            "Epoch [ 31 / 70 ], Step [ 17 / 68 ], Loss: 0.0209, \n",
            "Epoch [ 31 / 70 ], Step [ 34 / 68 ], Loss: 0.0240, \n",
            "Epoch [ 31 / 70 ], Step [ 51 / 68 ], Loss: 0.0243, \n",
            "Epoch [ 31 / 70 ], Step [ 68 / 68 ], Loss: 0.1184, \n",
            "Model Saved!\n",
            "Epoch [ 32 / 70 ], Step [ 17 / 68 ], Loss: 0.3427, \n",
            "Epoch [ 32 / 70 ], Step [ 34 / 68 ], Loss: 0.0953, \n",
            "Epoch [ 32 / 70 ], Step [ 51 / 68 ], Loss: 0.0018, \n",
            "Epoch [ 32 / 70 ], Step [ 68 / 68 ], Loss: 0.0079, \n",
            "Model Saved!\n",
            "Epoch [ 33 / 70 ], Step [ 17 / 68 ], Loss: 0.0560, \n",
            "Epoch [ 33 / 70 ], Step [ 34 / 68 ], Loss: 0.0232, \n",
            "Epoch [ 33 / 70 ], Step [ 51 / 68 ], Loss: 0.0679, \n",
            "Epoch [ 33 / 70 ], Step [ 68 / 68 ], Loss: 0.0092, \n",
            "Model Saved!\n",
            "Epoch [ 34 / 70 ], Step [ 17 / 68 ], Loss: 0.0538, \n",
            "Epoch [ 34 / 70 ], Step [ 34 / 68 ], Loss: 0.0940, \n",
            "Epoch [ 34 / 70 ], Step [ 51 / 68 ], Loss: 0.0074, \n",
            "Epoch [ 34 / 70 ], Step [ 68 / 68 ], Loss: 0.0124, \n",
            "Model Saved!\n",
            "Epoch [ 35 / 70 ], Step [ 17 / 68 ], Loss: 0.0170, \n",
            "Epoch [ 35 / 70 ], Step [ 34 / 68 ], Loss: 0.0093, \n",
            "Epoch [ 35 / 70 ], Step [ 51 / 68 ], Loss: 0.0074, \n",
            "Epoch [ 35 / 70 ], Step [ 68 / 68 ], Loss: 0.0441, \n",
            "Model Saved!\n",
            "Epoch [ 36 / 70 ], Step [ 17 / 68 ], Loss: 0.0056, \n",
            "Epoch [ 36 / 70 ], Step [ 34 / 68 ], Loss: 0.0415, \n",
            "Epoch [ 36 / 70 ], Step [ 51 / 68 ], Loss: 0.2681, \n",
            "Epoch [ 36 / 70 ], Step [ 68 / 68 ], Loss: 0.0006, \n",
            "Model Saved!\n",
            "Epoch [ 37 / 70 ], Step [ 17 / 68 ], Loss: 0.0038, \n",
            "Epoch [ 37 / 70 ], Step [ 34 / 68 ], Loss: 0.0035, \n",
            "Epoch [ 37 / 70 ], Step [ 51 / 68 ], Loss: 0.2402, \n",
            "Epoch [ 37 / 70 ], Step [ 68 / 68 ], Loss: 0.0026, \n",
            "Model Saved!\n",
            "Epoch [ 38 / 70 ], Step [ 17 / 68 ], Loss: 0.0214, \n",
            "Epoch [ 38 / 70 ], Step [ 34 / 68 ], Loss: 0.0060, \n",
            "Epoch [ 38 / 70 ], Step [ 51 / 68 ], Loss: 0.0140, \n",
            "Epoch [ 38 / 70 ], Step [ 68 / 68 ], Loss: 0.0841, \n",
            "Model Saved!\n",
            "Epoch [ 39 / 70 ], Step [ 17 / 68 ], Loss: 0.0126, \n",
            "Epoch [ 39 / 70 ], Step [ 34 / 68 ], Loss: 0.1017, \n",
            "Epoch [ 39 / 70 ], Step [ 51 / 68 ], Loss: 0.0055, \n",
            "Epoch [ 39 / 70 ], Step [ 68 / 68 ], Loss: 0.0238, \n",
            "Model Saved!\n",
            "Epoch [ 40 / 70 ], Step [ 17 / 68 ], Loss: 0.0232, \n",
            "Epoch [ 40 / 70 ], Step [ 34 / 68 ], Loss: 0.0056, \n",
            "Epoch [ 40 / 70 ], Step [ 51 / 68 ], Loss: 0.0257, \n",
            "Epoch [ 40 / 70 ], Step [ 68 / 68 ], Loss: 0.0099, \n",
            "Model Saved!\n",
            "Epoch [ 41 / 70 ], Step [ 17 / 68 ], Loss: 0.0262, \n",
            "Epoch [ 41 / 70 ], Step [ 34 / 68 ], Loss: 0.0048, \n",
            "Epoch [ 41 / 70 ], Step [ 51 / 68 ], Loss: 0.0212, \n",
            "Epoch [ 41 / 70 ], Step [ 68 / 68 ], Loss: 0.0003, \n",
            "Model Saved!\n",
            "Epoch [ 42 / 70 ], Step [ 17 / 68 ], Loss: 0.0151, \n",
            "Epoch [ 42 / 70 ], Step [ 34 / 68 ], Loss: 0.0192, \n",
            "Epoch [ 42 / 70 ], Step [ 51 / 68 ], Loss: 0.0684, \n",
            "Epoch [ 42 / 70 ], Step [ 68 / 68 ], Loss: 0.0011, \n",
            "Model Saved!\n",
            "Epoch [ 43 / 70 ], Step [ 17 / 68 ], Loss: 0.0113, \n",
            "Epoch [ 43 / 70 ], Step [ 34 / 68 ], Loss: 0.0438, \n",
            "Epoch [ 43 / 70 ], Step [ 51 / 68 ], Loss: 0.0030, \n",
            "Epoch [ 43 / 70 ], Step [ 68 / 68 ], Loss: 0.0131, \n",
            "Model Saved!\n",
            "Epoch [ 44 / 70 ], Step [ 17 / 68 ], Loss: 0.0118, \n",
            "Epoch [ 44 / 70 ], Step [ 34 / 68 ], Loss: 0.0019, \n",
            "Epoch [ 44 / 70 ], Step [ 51 / 68 ], Loss: 0.0136, \n",
            "Epoch [ 44 / 70 ], Step [ 68 / 68 ], Loss: 0.0209, \n",
            "Model Saved!\n",
            "Epoch [ 45 / 70 ], Step [ 17 / 68 ], Loss: 0.0349, \n",
            "Epoch [ 45 / 70 ], Step [ 34 / 68 ], Loss: 0.0143, \n",
            "Epoch [ 45 / 70 ], Step [ 51 / 68 ], Loss: 0.0589, \n",
            "Epoch [ 45 / 70 ], Step [ 68 / 68 ], Loss: 0.0579, \n",
            "Model Saved!\n",
            "Epoch [ 46 / 70 ], Step [ 17 / 68 ], Loss: 0.0218, \n",
            "Epoch [ 46 / 70 ], Step [ 34 / 68 ], Loss: 0.0015, \n",
            "Epoch [ 46 / 70 ], Step [ 51 / 68 ], Loss: 0.0014, \n",
            "Epoch [ 46 / 70 ], Step [ 68 / 68 ], Loss: 0.0648, \n",
            "Model Saved!\n",
            "Epoch [ 47 / 70 ], Step [ 17 / 68 ], Loss: 0.0308, \n",
            "Epoch [ 47 / 70 ], Step [ 34 / 68 ], Loss: 0.0476, \n",
            "Epoch [ 47 / 70 ], Step [ 51 / 68 ], Loss: 0.0087, \n",
            "Epoch [ 47 / 70 ], Step [ 68 / 68 ], Loss: 0.0469, \n",
            "Model Saved!\n",
            "Epoch [ 48 / 70 ], Step [ 17 / 68 ], Loss: 0.0315, \n",
            "Epoch [ 48 / 70 ], Step [ 34 / 68 ], Loss: 0.0458, \n",
            "Epoch [ 48 / 70 ], Step [ 51 / 68 ], Loss: 0.0216, \n",
            "Epoch [ 48 / 70 ], Step [ 68 / 68 ], Loss: 0.0519, \n",
            "Model Saved!\n",
            "Epoch [ 49 / 70 ], Step [ 17 / 68 ], Loss: 0.0330, \n",
            "Epoch [ 49 / 70 ], Step [ 34 / 68 ], Loss: 0.0155, \n",
            "Epoch [ 49 / 70 ], Step [ 51 / 68 ], Loss: 0.0105, \n",
            "Epoch [ 49 / 70 ], Step [ 68 / 68 ], Loss: 0.0074, \n",
            "Model Saved!\n",
            "Epoch [ 50 / 70 ], Step [ 17 / 68 ], Loss: 0.0103, \n",
            "Epoch [ 50 / 70 ], Step [ 34 / 68 ], Loss: 0.0148, \n",
            "Epoch [ 50 / 70 ], Step [ 51 / 68 ], Loss: 0.0168, \n",
            "Epoch [ 50 / 70 ], Step [ 68 / 68 ], Loss: 0.0195, \n",
            "Model Saved!\n",
            "Epoch [ 51 / 70 ], Step [ 17 / 68 ], Loss: 0.0093, \n",
            "Epoch [ 51 / 70 ], Step [ 34 / 68 ], Loss: 0.0562, \n",
            "Epoch [ 51 / 70 ], Step [ 51 / 68 ], Loss: 0.0078, \n",
            "Epoch [ 51 / 70 ], Step [ 68 / 68 ], Loss: 0.0068, \n",
            "Model Saved!\n",
            "Epoch [ 52 / 70 ], Step [ 17 / 68 ], Loss: 0.0193, \n",
            "Epoch [ 52 / 70 ], Step [ 34 / 68 ], Loss: 0.0024, \n",
            "Epoch [ 52 / 70 ], Step [ 51 / 68 ], Loss: 0.0114, \n",
            "Epoch [ 52 / 70 ], Step [ 68 / 68 ], Loss: 0.0016, \n",
            "Model Saved!\n",
            "Epoch [ 53 / 70 ], Step [ 17 / 68 ], Loss: 0.0686, \n",
            "Epoch [ 53 / 70 ], Step [ 34 / 68 ], Loss: 0.0207, \n",
            "Epoch [ 53 / 70 ], Step [ 51 / 68 ], Loss: 0.0047, \n",
            "Epoch [ 53 / 70 ], Step [ 68 / 68 ], Loss: 0.0003, \n",
            "Model Saved!\n",
            "Epoch [ 54 / 70 ], Step [ 17 / 68 ], Loss: 0.0079, \n",
            "Epoch [ 54 / 70 ], Step [ 34 / 68 ], Loss: 0.0194, \n",
            "Epoch [ 54 / 70 ], Step [ 51 / 68 ], Loss: 0.0111, \n",
            "Epoch [ 54 / 70 ], Step [ 68 / 68 ], Loss: 0.0034, \n",
            "Model Saved!\n",
            "Epoch [ 55 / 70 ], Step [ 17 / 68 ], Loss: 0.0087, \n",
            "Epoch [ 55 / 70 ], Step [ 34 / 68 ], Loss: 0.0150, \n",
            "Epoch [ 55 / 70 ], Step [ 51 / 68 ], Loss: 0.0078, \n",
            "Epoch [ 55 / 70 ], Step [ 68 / 68 ], Loss: 0.0097, \n",
            "Model Saved!\n",
            "Epoch [ 56 / 70 ], Step [ 17 / 68 ], Loss: 0.0025, \n",
            "Epoch [ 56 / 70 ], Step [ 34 / 68 ], Loss: 0.0022, \n",
            "Epoch [ 56 / 70 ], Step [ 51 / 68 ], Loss: 0.0046, \n",
            "Epoch [ 56 / 70 ], Step [ 68 / 68 ], Loss: 0.0176, \n",
            "Model Saved!\n",
            "Epoch [ 57 / 70 ], Step [ 17 / 68 ], Loss: 0.0052, \n",
            "Epoch [ 57 / 70 ], Step [ 34 / 68 ], Loss: 0.0082, \n",
            "Epoch [ 57 / 70 ], Step [ 51 / 68 ], Loss: 0.0045, \n",
            "Epoch [ 57 / 70 ], Step [ 68 / 68 ], Loss: 0.0002, \n",
            "Model Saved!\n",
            "Epoch [ 58 / 70 ], Step [ 17 / 68 ], Loss: 0.0682, \n",
            "Epoch [ 58 / 70 ], Step [ 34 / 68 ], Loss: 0.0193, \n",
            "Epoch [ 58 / 70 ], Step [ 51 / 68 ], Loss: 0.0035, \n",
            "Epoch [ 58 / 70 ], Step [ 68 / 68 ], Loss: 0.0011, \n",
            "Model Saved!\n",
            "Epoch [ 59 / 70 ], Step [ 17 / 68 ], Loss: 0.0149, \n",
            "Epoch [ 59 / 70 ], Step [ 34 / 68 ], Loss: 0.0061, \n",
            "Epoch [ 59 / 70 ], Step [ 51 / 68 ], Loss: 0.0340, \n",
            "Epoch [ 59 / 70 ], Step [ 68 / 68 ], Loss: 0.0023, \n",
            "Model Saved!\n",
            "Epoch [ 60 / 70 ], Step [ 17 / 68 ], Loss: 0.0444, \n",
            "Epoch [ 60 / 70 ], Step [ 34 / 68 ], Loss: 0.0350, \n",
            "Epoch [ 60 / 70 ], Step [ 51 / 68 ], Loss: 0.0125, \n",
            "Epoch [ 60 / 70 ], Step [ 68 / 68 ], Loss: 0.0176, \n",
            "Model Saved!\n",
            "Epoch [ 61 / 70 ], Step [ 17 / 68 ], Loss: 0.0055, \n",
            "Epoch [ 61 / 70 ], Step [ 34 / 68 ], Loss: 0.0088, \n",
            "Epoch [ 61 / 70 ], Step [ 51 / 68 ], Loss: 0.0303, \n",
            "Epoch [ 61 / 70 ], Step [ 68 / 68 ], Loss: 0.0052, \n",
            "Model Saved!\n",
            "Epoch [ 62 / 70 ], Step [ 17 / 68 ], Loss: 0.0079, \n",
            "Epoch [ 62 / 70 ], Step [ 34 / 68 ], Loss: 0.0051, \n",
            "Epoch [ 62 / 70 ], Step [ 51 / 68 ], Loss: 0.0027, \n",
            "Epoch [ 62 / 70 ], Step [ 68 / 68 ], Loss: 0.0508, \n",
            "Model Saved!\n",
            "Epoch [ 63 / 70 ], Step [ 17 / 68 ], Loss: 0.0038, \n",
            "Epoch [ 63 / 70 ], Step [ 34 / 68 ], Loss: 0.0062, \n",
            "Epoch [ 63 / 70 ], Step [ 51 / 68 ], Loss: 0.0015, \n",
            "Epoch [ 63 / 70 ], Step [ 68 / 68 ], Loss: 0.0001, \n",
            "Model Saved!\n",
            "Epoch [ 64 / 70 ], Step [ 17 / 68 ], Loss: 0.0770, \n",
            "Epoch [ 64 / 70 ], Step [ 34 / 68 ], Loss: 0.0833, \n",
            "Epoch [ 64 / 70 ], Step [ 51 / 68 ], Loss: 0.0525, \n",
            "Epoch [ 64 / 70 ], Step [ 68 / 68 ], Loss: 0.0011, \n",
            "Model Saved!\n"
          ],
          "name": "stdout"
        },
        {
          "output_type": "stream",
          "text": [
            "Traceback (most recent call last):\n",
            "  File \"/usr/lib/python3.6/multiprocessing/queues.py\", line 240, in _feed\n",
            "    send_bytes(obj)\n",
            "  File \"/usr/lib/python3.6/multiprocessing/connection.py\", line 200, in send_bytes\n",
            "    self._send_bytes(m[offset:offset + size])\n",
            "  File \"/usr/lib/python3.6/multiprocessing/connection.py\", line 404, in _send_bytes\n",
            "    self._send(header + buf)\n",
            "  File \"/usr/lib/python3.6/multiprocessing/connection.py\", line 368, in _send\n",
            "    n = write(self._handle, buf)\n",
            "BrokenPipeError: [Errno 32] Broken pipe\n"
          ],
          "name": "stderr"
        },
        {
          "output_type": "stream",
          "text": [
            "Epoch [ 65 / 70 ], Step [ 17 / 68 ], Loss: 0.0156, \n",
            "Epoch [ 65 / 70 ], Step [ 34 / 68 ], Loss: 0.0308, \n",
            "Epoch [ 65 / 70 ], Step [ 51 / 68 ], Loss: 0.0128, \n",
            "Epoch [ 65 / 70 ], Step [ 68 / 68 ], Loss: 0.0002, \n",
            "Model Saved!\n",
            "Epoch [ 66 / 70 ], Step [ 17 / 68 ], Loss: 0.0039, \n",
            "Epoch [ 66 / 70 ], Step [ 34 / 68 ], Loss: 0.0181, \n",
            "Epoch [ 66 / 70 ], Step [ 51 / 68 ], Loss: 0.0063, \n",
            "Epoch [ 66 / 70 ], Step [ 68 / 68 ], Loss: 0.0034, \n",
            "Model Saved!\n",
            "Epoch [ 67 / 70 ], Step [ 17 / 68 ], Loss: 0.0353, \n",
            "Epoch [ 67 / 70 ], Step [ 34 / 68 ], Loss: 0.0446, \n",
            "Epoch [ 67 / 70 ], Step [ 51 / 68 ], Loss: 0.0210, \n",
            "Epoch [ 67 / 70 ], Step [ 68 / 68 ], Loss: 0.0003, \n",
            "Model Saved!\n",
            "Epoch [ 68 / 70 ], Step [ 17 / 68 ], Loss: 0.0088, \n",
            "Epoch [ 68 / 70 ], Step [ 34 / 68 ], Loss: 0.0017, \n",
            "Epoch [ 68 / 70 ], Step [ 51 / 68 ], Loss: 0.0134, \n",
            "Epoch [ 68 / 70 ], Step [ 68 / 68 ], Loss: 0.0339, \n",
            "Model Saved!\n",
            "Epoch [ 69 / 70 ], Step [ 17 / 68 ], Loss: 0.0152, \n",
            "Epoch [ 69 / 70 ], Step [ 34 / 68 ], Loss: 0.0034, \n",
            "Epoch [ 69 / 70 ], Step [ 51 / 68 ], Loss: 0.0035, \n",
            "Epoch [ 69 / 70 ], Step [ 68 / 68 ], Loss: 0.0019, \n",
            "Model Saved!\n"
          ],
          "name": "stdout"
        }
      ]
    },
    {
      "cell_type": "markdown",
      "metadata": {
        "id": "c2AzWCayyiL4",
        "colab_type": "text"
      },
      "source": [
        "# Result analysis"
      ]
    },
    {
      "cell_type": "markdown",
      "metadata": {
        "id": "C5kOhNhByoX4",
        "colab_type": "text"
      },
      "source": [
        "###### Plotting Loss Function"
      ]
    },
    {
      "cell_type": "code",
      "metadata": {
        "id": "5Ac9SA-Kou8T",
        "colab_type": "code",
        "outputId": "9f7dcf42-bc39-45f0-fa07-be92fea48570",
        "colab": {
          "base_uri": "https://localhost:8080/",
          "height": 444
        }
      },
      "source": [
        "figure(num=None, figsize=(10, 6), dpi=80, facecolor='w', edgecolor='k')\n",
        "plt.plot(losses, label = 'Train Loss')\n",
        "plt.title('Training Loss')\n",
        "plt.ylabel('Loss')\n",
        "plt.xlabel('Steps')\n",
        "plt.legend()\n",
        "plt.show()"
      ],
      "execution_count": 0,
      "outputs": [
        {
          "output_type": "display_data",
          "data": {
            "image/png": "[encoded data removed]",
            "text/plain": [
              "<Figure size 800x480 with 1 Axes>"
            ]
          },
          "metadata": {
            "tags": []
          }
        }
      ]
    },
    {
      "cell_type": "markdown",
      "metadata": {
        "id": "eBMTX-_9ywXK",
        "colab_type": "text"
      },
      "source": [
        "###### Getting model predictions on test dataset"
      ]
    },
    {
      "cell_type": "code",
      "metadata": {
        "id": "8p0x3Uipd0Nk",
        "colab_type": "code",
        "outputId": "1548bcac-6ab7-42a1-c77d-a2e4b59128ea",
        "colab": {
          "base_uri": "https://localhost:8080/",
          "height": 622
        }
      },
      "source": [
        "test_targets = []\n",
        "test_predictions = []\n",
        "for idx, (test_img, test_label) in enumerate(test_data_loader) :\n",
        "  print('Batch [ {} / {} ] '.format(idx, len(test_data_loader)))\n",
        "  ground_indices, ground_truth = get_encoding(test_label)\n",
        "  predictions = resnet50(test_img.to(device))\n",
        "  pred_indices, predictions = get_encoding(predictions)\n",
        "  test_targets.extend(ground_indices)\n",
        "  test_predictions.extend(pred_indices)\n",
        "\n",
        "  print('Truth :      {}\\nPredictions :{}'.format(ground_truth, predictions))\n",
        "  print('-----------------------------------------------')"
      ],
      "execution_count": 0,
      "outputs": [
        {
          "output_type": "stream",
          "text": [
            "Batch [ 0 / 9 ] \n",
            "Truth :      ['Pneumonic', 'Pneumonic', 'Covid', 'Normal']\n",
            "Predictions :['Pneumonic', 'Pneumonic', 'Covid', 'Normal']\n",
            "-----------------------------------------------\n",
            "Batch [ 1 / 9 ] \n",
            "Truth :      ['Pneumonic', 'Pneumonic', 'Pneumonic', 'Normal']\n",
            "Predictions :['Pneumonic', 'Pneumonic', 'Pneumonic', 'Normal']\n",
            "-----------------------------------------------\n",
            "Batch [ 2 / 9 ] \n",
            "Truth :      ['Covid', 'Covid', 'Pneumonic', 'Normal']\n",
            "Predictions :['Covid', 'Pneumonic', 'Pneumonic', 'Normal']\n",
            "-----------------------------------------------\n",
            "Batch [ 3 / 9 ] \n",
            "Truth :      ['Pneumonic', 'Normal', 'Pneumonic', 'Covid']\n",
            "Predictions :['Pneumonic', 'Pneumonic', 'Pneumonic', 'Covid']\n",
            "-----------------------------------------------\n",
            "Batch [ 4 / 9 ] \n",
            "Truth :      ['Normal', 'Pneumonic', 'Pneumonic', 'Normal']\n",
            "Predictions :['Normal', 'Normal', 'Pneumonic', 'Normal']\n",
            "-----------------------------------------------\n",
            "Batch [ 5 / 9 ] \n",
            "Truth :      ['Pneumonic', 'Pneumonic', 'Pneumonic', 'Normal']\n",
            "Predictions :['Pneumonic', 'Pneumonic', 'Pneumonic', 'Normal']\n",
            "-----------------------------------------------\n",
            "Batch [ 6 / 9 ] \n",
            "Truth :      ['Pneumonic', 'Pneumonic', 'Covid', 'Pneumonic']\n",
            "Predictions :['Pneumonic', 'Pneumonic', 'Covid', 'Pneumonic']\n",
            "-----------------------------------------------\n",
            "Batch [ 7 / 9 ] \n",
            "Truth :      ['Pneumonic', 'Covid', 'Covid', 'Covid']\n",
            "Predictions :['Pneumonic', 'Covid', 'Covid', 'Pneumonic']\n",
            "-----------------------------------------------\n",
            "Batch [ 8 / 9 ] \n",
            "Truth :      ['Normal', 'Normal', 'Pneumonic', 'Covid']\n",
            "Predictions :['Pneumonic', 'Normal', 'Pneumonic', 'Covid']\n",
            "-----------------------------------------------\n"
          ],
          "name": "stdout"
        }
      ]
    },
    {
      "cell_type": "code",
      "metadata": {
        "id": "0dCJ0Bw6gpDp",
        "colab_type": "code",
        "colab": {}
      },
      "source": [
        "import pandas as pd\n",
        "summary = {'Test Targets':test_targets, 'Test Predictions':test_predictions}\n",
        "summary = pd.DataFrame(summary)"
      ],
      "execution_count": 0,
      "outputs": []
    },
    {
      "cell_type": "code",
      "metadata": {
        "id": "zhVARBt3iwJJ",
        "colab_type": "code",
        "outputId": "72754919-65cb-4e23-c997-4c81560098f5",
        "colab": {
          "base_uri": "https://localhost:8080/",
          "height": 195
        }
      },
      "source": [
        "summary.head()"
      ],
      "execution_count": 0,
      "outputs": [
        {
          "output_type": "execute_result",
          "data": {
            "text/html": [
              "<div>\n",
              "<style scoped>\n",
              "    .dataframe tbody tr th:only-of-type {\n",
              "        vertical-align: middle;\n",
              "    }\n",
              "\n",
              "    .dataframe tbody tr th {\n",
              "        vertical-align: top;\n",
              "    }\n",
              "\n",
              "    .dataframe thead th {\n",
              "        text-align: right;\n",
              "    }\n",
              "</style>\n",
              "<table border=\"1\" class=\"dataframe\">\n",
              "  <thead>\n",
              "    <tr style=\"text-align: right;\">\n",
              "      <th></th>\n",
              "      <th>Test Targets</th>\n",
              "      <th>Test Predictions</th>\n",
              "    </tr>\n",
              "  </thead>\n",
              "  <tbody>\n",
              "    <tr>\n",
              "      <th>0</th>\n",
              "      <td>1</td>\n",
              "      <td>1</td>\n",
              "    </tr>\n",
              "    <tr>\n",
              "      <th>1</th>\n",
              "      <td>1</td>\n",
              "      <td>1</td>\n",
              "    </tr>\n",
              "    <tr>\n",
              "      <th>2</th>\n",
              "      <td>2</td>\n",
              "      <td>2</td>\n",
              "    </tr>\n",
              "    <tr>\n",
              "      <th>3</th>\n",
              "      <td>0</td>\n",
              "      <td>0</td>\n",
              "    </tr>\n",
              "    <tr>\n",
              "      <th>4</th>\n",
              "      <td>1</td>\n",
              "      <td>1</td>\n",
              "    </tr>\n",
              "  </tbody>\n",
              "</table>\n",
              "</div>"
            ],
            "text/plain": [
              "   Test Targets  Test Predictions\n",
              "0             1                 1\n",
              "1             1                 1\n",
              "2             2                 2\n",
              "3             0                 0\n",
              "4             1                 1"
            ]
          },
          "metadata": {
            "tags": []
          },
          "execution_count": 91
        }
      ]
    },
    {
      "cell_type": "markdown",
      "metadata": {
        "id": "uFA_D0BMy6Kx",
        "colab_type": "text"
      },
      "source": [
        "###### Plotting confusion matrix\n",
        "###### Class 0 : Normal '' Class 1 : Pneumonia       Class 2 : COVID"
      ]
    },
    {
      "cell_type": "code",
      "metadata": {
        "id": "ARIlkL4RnaKS",
        "colab_type": "code",
        "outputId": "eba6c253-e7e8-4ee0-ecef-f4a6f2875098",
        "colab": {
          "base_uri": "https://localhost:8080/",
          "height": 333
        }
      },
      "source": [
        "import seaborn as sn\n",
        "confusion_matrix = pd.crosstab(summary['Test Targets'], summary['Test Predictions'], rownames=['Actual'], colnames=['Predicted'])\n",
        "sn.heatmap(confusion_matrix, annot=True)\n",
        "plt.show()"
      ],
      "execution_count": 0,
      "outputs": [
        {
          "output_type": "stream",
          "text": [
            "/usr/local/lib/python3.6/dist-packages/statsmodels/tools/_testing.py:19: FutureWarning: pandas.util.testing is deprecated. Use the functions in the public API at pandas.testing instead.\n",
            "  import pandas.util.testing as tm\n"
          ],
          "name": "stderr"
        },
        {
          "output_type": "display_data",
          "data": {
            "image/png": "[encoded data removed]",
            "text/plain": [
              "<Figure size 432x288 with 2 Axes>"
            ]
          },
          "metadata": {
            "tags": [],
            "needs_background": "light"
          }
        }
      ]
    },
    {
      "cell_type": "code",
      "metadata": {
        "id": "2L6UpoX4rbie",
        "colab_type": "code",
        "colab": {}
      },
      "source": [
        ""
      ],
      "execution_count": 0,
      "outputs": []
    }
  ]
}